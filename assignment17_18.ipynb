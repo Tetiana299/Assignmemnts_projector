{
 "cells": [
  {
   "cell_type": "code",
   "execution_count": 44,
   "metadata": {},
   "outputs": [],
   "source": [
    "import sys"
   ]
  },
  {
   "cell_type": "code",
   "execution_count": 45,
   "metadata": {},
   "outputs": [],
   "source": [
    "#!{sys.executable} -m pip install sqlalchemy"
   ]
  },
  {
   "attachments": {},
   "cell_type": "markdown",
   "metadata": {},
   "source": [
    "#### HOMEWORK 1) Task"
   ]
  },
  {
   "cell_type": "code",
   "execution_count": 1,
   "metadata": {},
   "outputs": [],
   "source": [
    "# HOMEWORK 1)\n",
    "\n",
    "from sqlalchemy.orm import declarative_base\n",
    "#from sqlalchemy.ext.declarative import declarative_base\n",
    "\n",
    "from sqlalchemy import Column, Integer, String, ForeignKey\n",
    "\n",
    "Base = declarative_base()\n",
    "\n",
    "class Student(Base):\n",
    "    __tablename__ = 'student' # звязати з таблиці\n",
    "\n",
    "    id = Column(Integer, primary_key=True)\n",
    "    name = Column(String)\n",
    "    age = Column(Integer)\n",
    "    \n",
    "    def __str__(self):\n",
    "        return f'This is a student {self.name}. Age: {self.age}'\n",
    "    \n",
    "    def __repr__(self):\n",
    "        return f'This is a student {self.name}. Age: {self.age}'\n",
    "\n",
    "class Student_subject(Base):\n",
    "    __tablename__ = 'student_subject' \n",
    "    id = Column(Integer, primary_key=True)\n",
    "    student_id = Column(Integer, ForeignKey('student.id'))\n",
    "    subject_id= Column(Integer, ForeignKey('subject.id'))\n",
    "    def __str__(self):\n",
    "        return f'This is a student_id {self.student_id}. subject_id: {self.subject_id}'\n",
    "    \n",
    "    def __repr__(self):\n",
    "        return f'This is a student_id {self.student_id}. subject_id: {self.subject_id}'\n",
    "\n",
    "\n",
    "class Subject(Base):\n",
    "    __tablename__ = 'subject' \n",
    "    id = Column(Integer, primary_key=True)\n",
    "    name = Column(String)\n",
    "    \n",
    "    def __str__(self):\n",
    "        return f'This is a subject {self.name}'\n",
    "    \n",
    "    def __repr__(self):\n",
    "        return f'This is a subject {self.name}'\n"
   ]
  },
  {
   "cell_type": "code",
   "execution_count": 2,
   "metadata": {},
   "outputs": [],
   "source": [
    "from sqlalchemy import create_engine\n",
    "\n",
    "DATABASE_URI = 'postgresql://{user}:{password}@{host}:{port}/{database}' # до якої бд підключаємось\n",
    "\n",
    "\n",
    "engine = create_engine(\n",
    "    DATABASE_URI.format(\n",
    "        host='localhost',\n",
    "        database='prjctr_lessons',\n",
    "        user='tania',\n",
    "        password='password',\n",
    "        port=5432,\n",
    "    )\n",
    ")"
   ]
  },
  {
   "cell_type": "code",
   "execution_count": 3,
   "metadata": {},
   "outputs": [],
   "source": [
    "Base.metadata.create_all(engine) "
   ]
  },
  {
   "cell_type": "code",
   "execution_count": 4,
   "metadata": {},
   "outputs": [],
   "source": [
    "from sqlalchemy.orm import sessionmaker\n",
    "\n",
    "Session = sessionmaker(bind=engine)\n",
    "\n",
    "session = Session()"
   ]
  },
  {
   "cell_type": "code",
   "execution_count": 5,
   "metadata": {},
   "outputs": [],
   "source": [
    "first_student = session.query(Student).first()"
   ]
  },
  {
   "cell_type": "code",
   "execution_count": 6,
   "metadata": {},
   "outputs": [
    {
     "data": {
      "text/plain": [
       "This is a student Eddy. Age: 21"
      ]
     },
     "execution_count": 6,
     "metadata": {},
     "output_type": "execute_result"
    }
   ],
   "source": [
    "first_student"
   ]
  },
  {
   "cell_type": "code",
   "execution_count": 59,
   "metadata": {},
   "outputs": [],
   "source": [
    "first_subj=session.query(Subject).first()"
   ]
  },
  {
   "cell_type": "code",
   "execution_count": 60,
   "metadata": {},
   "outputs": [
    {
     "data": {
      "text/plain": [
       "This is a subject English"
      ]
     },
     "execution_count": 60,
     "metadata": {},
     "output_type": "execute_result"
    }
   ],
   "source": [
    "first_subj"
   ]
  },
  {
   "cell_type": "code",
   "execution_count": 61,
   "metadata": {},
   "outputs": [
    {
     "data": {
      "text/plain": [
       "[('Bae', 23), ('Eddy', 26), ('Lily', 27), ('Jenny', 24)]"
      ]
     },
     "execution_count": 61,
     "metadata": {},
     "output_type": "execute_result"
    }
   ],
   "source": [
    "session.query(Student.name, Student.age + 5).all()"
   ]
  },
  {
   "cell_type": "code",
   "execution_count": 63,
   "metadata": {},
   "outputs": [
    {
     "name": "stdout",
     "output_type": "stream",
     "text": [
      "[This is a student Eddy. Age: 21, This is a student Lily. Age: 22]\n"
     ]
    }
   ],
   "source": [
    "old_students = session.query(Student).filter(Student.age > 20).all()\n",
    "# Select * from student where age > 20;\n",
    "print(old_students)"
   ]
  },
  {
   "cell_type": "code",
   "execution_count": 66,
   "metadata": {},
   "outputs": [
    {
     "name": "stdout",
     "output_type": "stream",
     "text": [
      "This is a student Lily. Age: 22\n"
     ]
    }
   ],
   "source": [
    "first_old_student = session.query(Student).filter(Student.age > 20).order_by(Student.id.desc()).first()\n",
    "# Select * from student where age > 20 order by id desc limit 1;\n",
    "print(first_old_student)"
   ]
  },
  {
   "cell_type": "code",
   "execution_count": 67,
   "metadata": {},
   "outputs": [
    {
     "name": "stdout",
     "output_type": "stream",
     "text": [
      "[This is a student Bae. Age: 18, This is a student Jenny. Age: 19]\n"
     ]
    }
   ],
   "source": [
    "mature_students: list[Student] = (\n",
    "    session.query(Student)\n",
    "    .filter(Student.age.between(18, 20)) # >= and <=\n",
    "    .all()\n",
    ")\n",
    "# Select * from student where age between 18 and 20\n",
    "\n",
    "print(mature_students)"
   ]
  },
  {
   "cell_type": "code",
   "execution_count": 68,
   "metadata": {},
   "outputs": [
    {
     "name": "stdout",
     "output_type": "stream",
     "text": [
      "[This is a student Bae. Age: 18]\n"
     ]
    }
   ],
   "source": [
    "### WHERE \n",
    "\n",
    "from sqlalchemy import and_\n",
    "\n",
    "mature_students: list[Student] = (\n",
    "    session.query(Student)\n",
    "    .filter(\n",
    "        and_(\n",
    "            Student.age.between(18, 20),\n",
    "            Student.name == 'Bae',\n",
    "        )\n",
    "    ).all()\n",
    ")\n",
    "\n",
    "# SELECT * from student where\n",
    "# age between 18 and 20 and nama = 'Bae'\n",
    "#\n",
    "\n",
    "print(mature_students)"
   ]
  },
  {
   "cell_type": "code",
   "execution_count": 69,
   "metadata": {},
   "outputs": [
    {
     "data": {
      "text/plain": [
       "[This is a student Bae. Age: 18]"
      ]
     },
     "execution_count": 69,
     "metadata": {},
     "output_type": "execute_result"
    }
   ],
   "source": [
    "from sqlalchemy import or_\n",
    "\n",
    "session.query(Student).filter(\n",
    "    or_(\n",
    "        Student.name == 'Bae',\n",
    "        Student.name == 'Lila',\n",
    "    )\n",
    ").all()\n",
    "\n",
    "# select * from student \n",
    "# where name = 'bae' or name = 'Lila'"
   ]
  },
  {
   "cell_type": "code",
   "execution_count": 70,
   "metadata": {},
   "outputs": [
    {
     "data": {
      "text/plain": [
       "[This is a student Lily. Age: 22,\n",
       " This is a student Jenny. Age: 19,\n",
       " This is a student Eddy. Age: 21,\n",
       " This is a student Bae. Age: 18]"
      ]
     },
     "execution_count": 70,
     "metadata": {},
     "output_type": "execute_result"
    }
   ],
   "source": [
    "session.query(Student).order_by(Student.name.desc()).limit(5).all()\n",
    "\n",
    "# select * from student order by name desc limit 5;"
   ]
  },
  {
   "cell_type": "code",
   "execution_count": 71,
   "metadata": {},
   "outputs": [
    {
     "data": {
      "text/plain": [
       "[This is a student Lily. Age: 22, This is a student Jenny. Age: 19]"
      ]
     },
     "execution_count": 71,
     "metadata": {},
     "output_type": "execute_result"
    }
   ],
   "source": [
    "session.query(Student).order_by(Student.name.desc()).limit(2).all()\n",
    "\n",
    "# select * from student order by name desc limit 2;"
   ]
  },
  {
   "cell_type": "code",
   "execution_count": 82,
   "metadata": {},
   "outputs": [
    {
     "data": {
      "text/plain": [
       "[This is a student Lily. Age: 22, This is a student Eddy. Age: 21]"
      ]
     },
     "execution_count": 82,
     "metadata": {},
     "output_type": "execute_result"
    }
   ],
   "source": [
    "from sqlalchemy import and_, between\n",
    "\n",
    "\n",
    "session.query(Student).filter(\n",
    "        and_(\n",
    "            or_(\n",
    "                Student.age < 18,\n",
    "                Student.age > 20,\n",
    "            ),\n",
    "            Student.id.between(1, 10)\n",
    "        )\n",
    "    ).order_by(Student.name.desc()).limit(10).all()\n",
    "\n",
    "\n",
    "\n",
    "# Select * from student where (\n",
    "    # id between 1 and 10 \n",
    "    # and (\n",
    "    #   age < 18 or age > 20\n",
    "    #   )\n",
    "# )\n",
    "# order by name desc limit 10"
   ]
  },
  {
   "cell_type": "code",
   "execution_count": 83,
   "metadata": {},
   "outputs": [
    {
     "name": "stdout",
     "output_type": "stream",
     "text": [
      "This is a student Bae. Age: 18\n",
      "1\n"
     ]
    }
   ],
   "source": [
    "from random import randint\n",
    "\n",
    "bae = session.query(Student).filter(Student.name == 'Bae').first()\n",
    "\n",
    "print(bae)\n",
    "print(bae.id)"
   ]
  },
  {
   "cell_type": "code",
   "execution_count": 84,
   "metadata": {},
   "outputs": [
    {
     "name": "stdout",
     "output_type": "stream",
     "text": [
      "This is a student Bae. Age: 23\n",
      "1\n"
     ]
    }
   ],
   "source": [
    "# Перезапис \n",
    "bae.age = randint(18, 25)\n",
    "\n",
    "print(bae)\n",
    "print(bae.id)"
   ]
  },
  {
   "cell_type": "code",
   "execution_count": 86,
   "metadata": {},
   "outputs": [
    {
     "name": "stdout",
     "output_type": "stream",
     "text": [
      "23\n"
     ]
    }
   ],
   "source": [
    "print(bae.age)"
   ]
  },
  {
   "cell_type": "code",
   "execution_count": 87,
   "metadata": {},
   "outputs": [],
   "source": [
    "session.commit() # Поки не зробите commit/rollback зміни на сервері не будуть дописані\n",
    "# session.rollback()"
   ]
  },
  {
   "cell_type": "code",
   "execution_count": 88,
   "metadata": {},
   "outputs": [
    {
     "data": {
      "text/plain": [
       "This is a student Bae. Age: 23"
      ]
     },
     "execution_count": 88,
     "metadata": {},
     "output_type": "execute_result"
    }
   ],
   "source": [
    "bae"
   ]
  },
  {
   "cell_type": "code",
   "execution_count": 89,
   "metadata": {},
   "outputs": [],
   "source": [
    "## Insert\n",
    "new_student = Student(name='Lila super', age=25)\n",
    "\n",
    "session.add(new_student)"
   ]
  },
  {
   "cell_type": "code",
   "execution_count": 90,
   "metadata": {},
   "outputs": [
    {
     "data": {
      "text/plain": [
       "[This is a student Lila super. Age: 25]"
      ]
     },
     "execution_count": 90,
     "metadata": {},
     "output_type": "execute_result"
    }
   ],
   "source": [
    "session.query(Student).filter(\n",
    "    and_(\n",
    "        Student.name == 'Lila super',\n",
    "        Student.age == 25,\n",
    "    )\n",
    ").all()"
   ]
  },
  {
   "cell_type": "code",
   "execution_count": 91,
   "metadata": {},
   "outputs": [],
   "source": [
    "session.commit()"
   ]
  },
  {
   "cell_type": "code",
   "execution_count": 92,
   "metadata": {},
   "outputs": [],
   "source": [
    "from random import randint, choice # faker\n",
    "\n",
    "random_names = ['Joe', 'Winston', 'Benedict', 'Andrea', 'Fillipe', 'Iria', 'Eric', 'Joan', 'Pablo', 'Brian', 'Timothy', 'Lee']\n",
    "\n",
    "for _ in range(10):\n",
    "    student = Student(name=choice(random_names), age=randint(18, 25))\n",
    "    session.add(student)\n",
    "\n",
    "session.commit()"
   ]
  },
  {
   "cell_type": "code",
   "execution_count": 93,
   "metadata": {},
   "outputs": [
    {
     "data": {
      "text/plain": [
       "[This is a student Eddy. Age: 21,\n",
       " This is a student Lily. Age: 22,\n",
       " This is a student Jenny. Age: 19,\n",
       " This is a student Bae. Age: 23,\n",
       " This is a student Lila super. Age: 25,\n",
       " This is a student Eric. Age: 20,\n",
       " This is a student Eric. Age: 23,\n",
       " This is a student Benedict. Age: 19,\n",
       " This is a student Joe. Age: 22,\n",
       " This is a student Pablo. Age: 23,\n",
       " This is a student Joe. Age: 23,\n",
       " This is a student Winston. Age: 24,\n",
       " This is a student Timothy. Age: 24,\n",
       " This is a student Brian. Age: 20,\n",
       " This is a student Fillipe. Age: 19]"
      ]
     },
     "execution_count": 93,
     "metadata": {},
     "output_type": "execute_result"
    }
   ],
   "source": [
    "session.query(Student).all()"
   ]
  },
  {
   "cell_type": "code",
   "execution_count": 94,
   "metadata": {},
   "outputs": [
    {
     "data": {
      "text/plain": [
       "This is a student Fillipe. Age: 19"
      ]
     },
     "execution_count": 94,
     "metadata": {},
     "output_type": "execute_result"
    }
   ],
   "source": [
    "last_student = session.query(Student).order_by(Student.id.desc()).first()\n",
    "\n",
    "last_student"
   ]
  },
  {
   "cell_type": "code",
   "execution_count": 95,
   "metadata": {},
   "outputs": [
    {
     "data": {
      "text/plain": [
       "__main__.Student"
      ]
     },
     "execution_count": 95,
     "metadata": {},
     "output_type": "execute_result"
    }
   ],
   "source": [
    "type(last_student)"
   ]
  },
  {
   "cell_type": "code",
   "execution_count": 96,
   "metadata": {},
   "outputs": [],
   "source": [
    "session.commit()"
   ]
  },
  {
   "attachments": {},
   "cell_type": "markdown",
   "metadata": {},
   "source": [
    "#### HOMEWORK 2) Task"
   ]
  },
  {
   "cell_type": "code",
   "execution_count": 116,
   "metadata": {},
   "outputs": [
    {
     "name": "stdout",
     "output_type": "stream",
     "text": [
      "This is a student Bae. Age: 23\n"
     ]
    }
   ],
   "source": [
    "# HOME WORK 2)\n",
    "stud_eng=session.query(Student).join(Student_subject, Student.id==Student_subject.student_id).\\\n",
    "    join(Subject, Student_subject.subject_id==Subject.id).filter(Subject.name=='English').all()\n",
    "for i in stud_eng:\n",
    "    print(i)"
   ]
  },
  {
   "cell_type": "code",
   "execution_count": 117,
   "metadata": {},
   "outputs": [],
   "source": [
    "session.commit()"
   ]
  },
  {
   "attachments": {},
   "cell_type": "markdown",
   "metadata": {},
   "source": [
    "#### HOMEWORK 3) Task"
   ]
  },
  {
   "attachments": {},
   "cell_type": "markdown",
   "metadata": {},
   "source": [
    "#### DISTINCT\n",
    "\n",
    "```sql\n",
    "1. SELECT DISTINCT name FROM student;\n",
    "```\n",
    "\n",
    "#### WHERE\n",
    "\n",
    "```sql\n",
    "2. SELECT name FROM student WHERE age < 20;\n",
    "```\n",
    "\n",
    "\n",
    "```sql\n",
    "3. SELECT name FROM student WHERE NOT name = 'John';\n",
    "```\n",
    "\n",
    "```sql\n",
    "4. SELECT name FROM student WHERE age < 20 AND age > 10;\n",
    "5. SELECT name FROM student WHERE age < 20 OR name = 'John';\n",
    "```\n",
    "\n",
    "\n",
    "##### BETWEEN\n",
    "\n",
    "```sql\n",
    "6. SELECT name FROM student WHERE age BETWEEN 10 AND 20;\n",
    "```\n",
    "\n",
    "#### ORDER BY\n",
    "\n",
    "```sql\n",
    "7. SELECT name, age FROM student ORDER BY age;\n",
    "8. SELECT name, age FROM student WHERE age BETWEEN 10 AND 20 ORDER BY age DESC;\n",
    "```"
   ]
  },
  {
   "cell_type": "code",
   "execution_count": 138,
   "metadata": {},
   "outputs": [],
   "source": [
    "from sqlalchemy import and_, or_"
   ]
  },
  {
   "cell_type": "code",
   "execution_count": 124,
   "metadata": {},
   "outputs": [
    {
     "name": "stdout",
     "output_type": "stream",
     "text": [
      "('Fillipe',) ('Lily',) ('Lila super',) ('Winston',) ('Jenny',) ('Eric',) ('Benedict',) ('Bae',) ('Timothy',) ('Joe',) ('Eddy',) ('Pablo',) ('Brian',)\n"
     ]
    }
   ],
   "source": [
    "# optional \n",
    "# 1 SELECT DISTINCT name FROM student;\n",
    "name=session.query(Student.name).distinct().all()\n",
    "print(*name)"
   ]
  },
  {
   "cell_type": "code",
   "execution_count": 127,
   "metadata": {},
   "outputs": [
    {
     "data": {
      "text/plain": [
       "[('Jenny',), ('Benedict',), ('Fillipe',)]"
      ]
     },
     "execution_count": 127,
     "metadata": {},
     "output_type": "execute_result"
    }
   ],
   "source": [
    "# 2 SELECT name FROM student WHERE age < 20;\n",
    "young_man=session.query(Student.name).filter(Student.age < 20).all()\n",
    "young_man"
   ]
  },
  {
   "cell_type": "code",
   "execution_count": 136,
   "metadata": {},
   "outputs": [
    {
     "data": {
      "text/plain": [
       "[('Eddy',),\n",
       " ('Lily',),\n",
       " ('Jenny',),\n",
       " ('Bae',),\n",
       " ('Lila super',),\n",
       " ('Eric',),\n",
       " ('Eric',),\n",
       " ('Benedict',),\n",
       " ('Joe',),\n",
       " ('Pablo',),\n",
       " ('Joe',),\n",
       " ('Winston',),\n",
       " ('Timothy',),\n",
       " ('Brian',),\n",
       " ('Fillipe',)]"
      ]
     },
     "execution_count": 136,
     "metadata": {},
     "output_type": "execute_result"
    }
   ],
   "source": [
    "# 3 SELECT name FROM student WHERE NOT name = 'John';\n",
    "student=session.query(Student.name).filter(Student.name!='John').all()\n",
    "student"
   ]
  },
  {
   "cell_type": "code",
   "execution_count": 141,
   "metadata": {},
   "outputs": [
    {
     "data": {
      "text/plain": [
       "[('Jenny',), ('Benedict',), ('Fillipe',)]"
      ]
     },
     "execution_count": 141,
     "metadata": {},
     "output_type": "execute_result"
    }
   ],
   "source": [
    "# 4 SELECT name FROM student WHERE age < 20 AND age > 10;\n",
    "student=session.query(Student.name).filter(\n",
    "    and_( Student.age > 10,\n",
    "         Student.age < 20)\n",
    "    ).all()\n",
    "student"
   ]
  },
  {
   "cell_type": "code",
   "execution_count": 144,
   "metadata": {},
   "outputs": [
    {
     "data": {
      "text/plain": [
       "[('Jenny',), ('Benedict',), ('Fillipe',)]"
      ]
     },
     "execution_count": 144,
     "metadata": {},
     "output_type": "execute_result"
    }
   ],
   "source": [
    "# 5 SELECT name FROM student WHERE age < 20 OR name = 'John';\n",
    "student=session.query(Student.name).filter(\n",
    "    or_( Student.age < 20,\n",
    "         Student.name=='John')\n",
    "    ).all()\n",
    "student"
   ]
  },
  {
   "cell_type": "code",
   "execution_count": 145,
   "metadata": {},
   "outputs": [
    {
     "data": {
      "text/plain": [
       "[('Jenny',), ('Eric',), ('Benedict',), ('Brian',), ('Fillipe',)]"
      ]
     },
     "execution_count": 145,
     "metadata": {},
     "output_type": "execute_result"
    }
   ],
   "source": [
    "# 6 SELECT name FROM student WHERE age BETWEEN 10 AND 20;\n",
    "student=session.query(Student.name).filter(Student.age.between(10, 20)).all()\n",
    "student"
   ]
  },
  {
   "cell_type": "code",
   "execution_count": 150,
   "metadata": {},
   "outputs": [
    {
     "name": "stdout",
     "output_type": "stream",
     "text": [
      "This is a student Fillipe. Age: 19\n",
      "This is a student Jenny. Age: 19\n",
      "This is a student Benedict. Age: 19\n",
      "This is a student Eric. Age: 20\n",
      "This is a student Brian. Age: 20\n",
      "This is a student Eddy. Age: 21\n",
      "This is a student Joe. Age: 22\n",
      "This is a student Lily. Age: 22\n",
      "This is a student Pablo. Age: 23\n",
      "This is a student Eric. Age: 23\n",
      "This is a student Bae. Age: 23\n",
      "This is a student Joe. Age: 23\n",
      "This is a student Timothy. Age: 24\n",
      "This is a student Winston. Age: 24\n",
      "This is a student Lila super. Age: 25\n"
     ]
    }
   ],
   "source": [
    "# 7 SELECT name, age FROM student ORDER BY age;\n",
    "student=session.query(Student).order_by(Student.age.asc()).all()\n",
    "print(*student, sep='\\n')"
   ]
  },
  {
   "cell_type": "code",
   "execution_count": 151,
   "metadata": {},
   "outputs": [
    {
     "name": "stdout",
     "output_type": "stream",
     "text": [
      "This is a student Eric. Age: 20\n",
      "This is a student Brian. Age: 20\n",
      "This is a student Jenny. Age: 19\n",
      "This is a student Benedict. Age: 19\n",
      "This is a student Fillipe. Age: 19\n"
     ]
    }
   ],
   "source": [
    "# 8 SELECT name, age FROM student WHERE age BETWEEN 10 AND 20 ORDER BY age DESC;\n",
    "student=session.query(Student).filter(Student.age.between(10,20)).order_by(Student.age.desc()).all()\n",
    "print(*student, sep='\\n')"
   ]
  },
  {
   "attachments": {},
   "cell_type": "markdown",
   "metadata": {},
   "source": [
    "#### JOIN\n",
    "\n",
    "#### INNER JOIN\n",
    "\n",
    "INNER JOIN - uses a comparison operator to match rows from two tables based on values in a common column that exists in **both** tables.\n",
    "\n",
    "Simple join between two tables\n",
    "\n",
    "```sql\n",
    "1. \n",
    "SELECT *\n",
    "FROM student\n",
    "INNER JOIN student_subject\n",
    "ON student.id = student_subject.student_id;\n",
    "```\n",
    "\n",
    "Select columns during the join\n",
    "```sql\n",
    "2. \n",
    "SELECT student.name, student_subject.subject_id\n",
    "FROM student\n",
    "INNER JOIN student_subject\n",
    "ON student.id = student_subject.student_id;\n",
    "```\n",
    "\n",
    "Using alias\n",
    "```sql\n",
    "3. \n",
    "SELECT s.name AS student_name, ss.subject_id AS subject_id\n",
    "FROM student AS s\n",
    "INNER JOIN student_subject as ss\n",
    "ON s.id = ss.student_id;\n",
    "```\n",
    "\n",
    "Join with three tables\n",
    "```sql\n",
    "4. \n",
    "SELECT *\n",
    "FROM student\n",
    "INNER JOIN student_subject ON student.id = student_subject.student_id\n",
    "INNER JOIN subject ON subject.id = student_subject.subject_id;\n",
    "```\n",
    "```sql\n",
    "5. \n",
    "SELECT * from (\n",
    "    SELECT s.id, subject.id\n",
    "    FROM student\n",
    "    INNER JOIN subject ON subject.id = student.id;\n",
    ")\n",
    "```\n",
    "\n",
    "```sql\n",
    "6. \n",
    "SELECT *\n",
    "FROM student\n",
    "INNER JOIN subject ON subject.id = student.id;\n",
    "```\n",
    "\n",
    "#### OUTER JOIN\n",
    "\n",
    "OUTER JOIN (left, right or full) - includes rows from **one or both** tables even if they don`t have matching values\n",
    "\n",
    "```sql\n",
    "7. \n",
    "SELECT *\n",
    "FROM student\n",
    "FULL JOIN student_subject\n",
    "ON student.id = student_subject.student_id;\n",
    "```\n",
    "\n",
    "#### LEFT/RIGHT JOIN\n",
    "\n",
    "CROSS JOIN - returns all rows from the left table with **all rows** from the right table. WHERE conditions should always be included. \n",
    "\n",
    "```sql\n",
    "8. \n",
    "SELECT *\n",
    "FROM student\n",
    "LEFT JOIN student_subject\n",
    "ON student.id = student_subject.student_id;\n",
    "```\n",
    "\n",
    "```sql\n",
    "9. \n",
    "SELECT *\n",
    "FROM student\n",
    "RIGHT JOIN student_subject\n",
    "ON student.id = student_subject.student_id;\n",
    "```"
   ]
  },
  {
   "cell_type": "code",
   "execution_count": 8,
   "metadata": {},
   "outputs": [
    {
     "data": {
      "text/plain": [
       "[This is a student Bae. Age: 23,\n",
       " This is a student Eddy. Age: 21,\n",
       " This is a student Lily. Age: 22,\n",
       " This is a student Jenny. Age: 19]"
      ]
     },
     "execution_count": 8,
     "metadata": {},
     "output_type": "execute_result"
    }
   ],
   "source": [
    "# 1 SELECT *\n",
    "# FROM student\n",
    "# INNER JOIN student_subject\n",
    "# ON student.id = student_subject.student_id;\n",
    "studens=session.query(Student).join(Student_subject, Student.id==Student_subject.student_id).all()\n",
    "studens"
   ]
  },
  {
   "cell_type": "code",
   "execution_count": 10,
   "metadata": {},
   "outputs": [
    {
     "data": {
      "text/plain": [
       "[('Bae', 1), ('Eddy', 2), ('Lily', 3), ('Jenny', 4), ('Bae', 3)]"
      ]
     },
     "execution_count": 10,
     "metadata": {},
     "output_type": "execute_result"
    }
   ],
   "source": [
    "# 2 SELECT student.name, student_subject.subject_id\n",
    "# FROM student\n",
    "# INNER JOIN student_subject\n",
    "# ON student.id = student_subject.student_id;\n",
    "studens=session.query(Student.name, Student_subject.subject_id).\\\n",
    "    join(Student_subject, Student.id==Student_subject.student_id).all()\n",
    "studens"
   ]
  },
  {
   "cell_type": "code",
   "execution_count": 14,
   "metadata": {},
   "outputs": [],
   "source": [
    "from sqlalchemy.orm import aliased\n",
    "\n",
    "s = aliased(Student, name='s')\n",
    "ss= aliased(Student_subject, name='ss')\n",
    "su= aliased(Subject, name='su')\n"
   ]
  },
  {
   "cell_type": "code",
   "execution_count": 15,
   "metadata": {},
   "outputs": [
    {
     "data": {
      "text/plain": [
       "[('Bae', 1), ('Eddy', 2), ('Lily', 3), ('Jenny', 4), ('Bae', 3)]"
      ]
     },
     "execution_count": 15,
     "metadata": {},
     "output_type": "execute_result"
    }
   ],
   "source": [
    "# 3 SELECT s.name AS student_name, ss.subject_id AS subject_id\n",
    "# FROM student AS s\n",
    "# INNER JOIN student_subject as ss\n",
    "# ON s.id = ss.student_id;\n",
    "\n",
    "studens=session.query(s.name, ss.subject_id).\\\n",
    "    join(ss, s.id==ss.student_id).all()\n",
    "studens"
   ]
  },
  {
   "cell_type": "code",
   "execution_count": 18,
   "metadata": {},
   "outputs": [
    {
     "data": {
      "text/plain": [
       "[This is a student Bae. Age: 23,\n",
       " This is a student Eddy. Age: 21,\n",
       " This is a student Lily. Age: 22,\n",
       " This is a student Jenny. Age: 19]"
      ]
     },
     "execution_count": 18,
     "metadata": {},
     "output_type": "execute_result"
    }
   ],
   "source": [
    "# 4 SELECT *\n",
    "# FROM student\n",
    "# INNER JOIN student_subject ON student.id = student_subject.student_id\n",
    "# INNER JOIN subject ON subject.id = student_subject.subject_id;\n",
    "\n",
    "students_classes=session.query(s).join(ss, s.id==ss.student_id).\\\n",
    "                    join(su, ss.subject_id==su.id).all()\n",
    "students_classes\n"
   ]
  },
  {
   "cell_type": "code",
   "execution_count": 23,
   "metadata": {},
   "outputs": [
    {
     "data": {
      "text/plain": [
       "[(1, 1), (2, 2), (3, 3), (4, 4)]"
      ]
     },
     "execution_count": 23,
     "metadata": {},
     "output_type": "execute_result"
    }
   ],
   "source": [
    "# 5 SELECT * from (\n",
    "#   SELECT s.id, subject.id\n",
    "#   FROM student\n",
    "#   INNER JOIN subject ON subject.id = student.id;\n",
    "# )\n",
    "result=session.query(s.id, su.id).join(su, s.id==su.id).all()\n",
    "result"
   ]
  },
  {
   "cell_type": "code",
   "execution_count": 24,
   "metadata": {},
   "outputs": [
    {
     "data": {
      "text/plain": [
       "[This is a student Bae. Age: 23,\n",
       " This is a student Eddy. Age: 21,\n",
       " This is a student Lily. Age: 22,\n",
       " This is a student Jenny. Age: 19]"
      ]
     },
     "execution_count": 24,
     "metadata": {},
     "output_type": "execute_result"
    }
   ],
   "source": [
    "# 6 SELECT *\n",
    "# FROM student\n",
    "# INNER JOIN subject ON subject.id = student.id;\n",
    "\n",
    "result=session.query(s).join(su, s.id==su.id).all()\n",
    "result"
   ]
  },
  {
   "cell_type": "code",
   "execution_count": 34,
   "metadata": {},
   "outputs": [
    {
     "data": {
      "text/plain": [
       "[(This is a student Bae. Age: 23, This is a student_id 1. subject_id: 1),\n",
       " (This is a student Eddy. Age: 21, This is a student_id 2. subject_id: 2),\n",
       " (This is a student Lily. Age: 22, This is a student_id 3. subject_id: 3),\n",
       " (This is a student Jenny. Age: 19, This is a student_id 4. subject_id: 4),\n",
       " (This is a student Bae. Age: 23, This is a student_id 1. subject_id: 3),\n",
       " (This is a student Joe. Age: 23, None),\n",
       " (This is a student Winston. Age: 24, None),\n",
       " (This is a student Pablo. Age: 23, None),\n",
       " (This is a student Fillipe. Age: 19, None),\n",
       " (This is a student Timothy. Age: 24, None),\n",
       " (This is a student Lila super. Age: 25, None),\n",
       " (This is a student Benedict. Age: 19, None),\n",
       " (This is a student Eric. Age: 20, None),\n",
       " (This is a student Brian. Age: 20, None),\n",
       " (This is a student Joe. Age: 22, None),\n",
       " (This is a student Eric. Age: 23, None)]"
      ]
     },
     "execution_count": 34,
     "metadata": {},
     "output_type": "execute_result"
    }
   ],
   "source": [
    "# 7 SELECT *\n",
    "# FROM student\n",
    "# FULL JOIN student_subject\n",
    "# ON student.id = student_subject.student_id;\n",
    "\n",
    "result=session.query(s, ss).outerjoin(ss, s.id==ss.student_id).all()\n",
    "result"
   ]
  },
  {
   "cell_type": "code",
   "execution_count": 37,
   "metadata": {},
   "outputs": [
    {
     "data": {
      "text/plain": [
       "[(This is a student Bae. Age: 23, This is a student_id 1. subject_id: 1),\n",
       " (This is a student Eddy. Age: 21, This is a student_id 2. subject_id: 2),\n",
       " (This is a student Lily. Age: 22, This is a student_id 3. subject_id: 3),\n",
       " (This is a student Jenny. Age: 19, This is a student_id 4. subject_id: 4),\n",
       " (This is a student Bae. Age: 23, This is a student_id 1. subject_id: 3),\n",
       " (This is a student Joe. Age: 23, None),\n",
       " (This is a student Winston. Age: 24, None),\n",
       " (This is a student Pablo. Age: 23, None),\n",
       " (This is a student Fillipe. Age: 19, None),\n",
       " (This is a student Timothy. Age: 24, None),\n",
       " (This is a student Lila super. Age: 25, None),\n",
       " (This is a student Benedict. Age: 19, None),\n",
       " (This is a student Eric. Age: 20, None),\n",
       " (This is a student Brian. Age: 20, None),\n",
       " (This is a student Joe. Age: 22, None),\n",
       " (This is a student Eric. Age: 23, None)]"
      ]
     },
     "execution_count": 37,
     "metadata": {},
     "output_type": "execute_result"
    }
   ],
   "source": [
    "# 8 SELECT *\n",
    "# FROM student\n",
    "# LEFT JOIN student_subject\n",
    "# ON student.id = student_subject.student_id;\n",
    "\n",
    "result=session.query(s, ss).join(ss, s.id==ss.student_id, isouter=True).all()\n",
    "result"
   ]
  },
  {
   "cell_type": "code",
   "execution_count": 39,
   "metadata": {},
   "outputs": [
    {
     "data": {
      "text/plain": [
       "[(This is a student Bae. Age: 23, This is a student_id 1. subject_id: 1),\n",
       " (This is a student Eddy. Age: 21, This is a student_id 2. subject_id: 2),\n",
       " (This is a student Lily. Age: 22, This is a student_id 3. subject_id: 3),\n",
       " (This is a student Jenny. Age: 19, This is a student_id 4. subject_id: 4),\n",
       " (This is a student Bae. Age: 23, This is a student_id 1. subject_id: 3)]"
      ]
     },
     "execution_count": 39,
     "metadata": {},
     "output_type": "execute_result"
    }
   ],
   "source": [
    "# 9 SELECT *\n",
    "# FROM student\n",
    "# RIGHT JOIN student_subject\n",
    "# ON student.id = student_subject.student_id;\n",
    "\n",
    "result=session.query(s, ss).join(ss, s.id==ss.student_id).all()\n",
    "result"
   ]
  },
  {
   "attachments": {},
   "cell_type": "markdown",
   "metadata": {},
   "source": [
    "#### AGGREGATE FUNCTIONS\n",
    "\n",
    "1\n",
    "\n",
    "```sql\n",
    "SELECT COUNT(*) FROM student;\n",
    "```\n",
    "\n",
    "```sql\n",
    "SELECT MIN(age) FROM student;\n",
    "```\n",
    "\n",
    "```sql\n",
    "SELECT AVG(age) FROM student;"
   ]
  },
  {
   "cell_type": "code",
   "execution_count": 43,
   "metadata": {},
   "outputs": [
    {
     "name": "stdout",
     "output_type": "stream",
     "text": [
      "15\n"
     ]
    }
   ],
   "source": [
    "# 1 SELECT COUNT(*) FROM student;\n",
    "count_=session.query(Student).count()\n",
    "print(count_)"
   ]
  },
  {
   "cell_type": "code",
   "execution_count": 51,
   "metadata": {},
   "outputs": [],
   "source": [
    "from sqlalchemy.sql import func  #(function avg is not in list(( )"
   ]
  },
  {
   "cell_type": "code",
   "execution_count": 59,
   "metadata": {},
   "outputs": [
    {
     "name": "stdout",
     "output_type": "stream",
     "text": [
      "19\n"
     ]
    }
   ],
   "source": [
    "\n",
    "# 2 SELECT MIN(age) FROM student;\n",
    "min_=session.query(func.min(Student.age)).first()\n",
    "print(*min_)"
   ]
  },
  {
   "cell_type": "code",
   "execution_count": 65,
   "metadata": {},
   "outputs": [
    {
     "name": "stdout",
     "output_type": "stream",
     "text": [
      "21.8000000000000000\n"
     ]
    }
   ],
   "source": [
    "# 3 SELECT AVG(age) FROM student; \n",
    "avg_=session.query(func.sum(Student.age)/count_).first()\n",
    "print(*avg_)"
   ]
  },
  {
   "attachments": {},
   "cell_type": "markdown",
   "metadata": {},
   "source": [
    "\n",
    "#### UPDATE\n",
    "\n",
    "Update one column in a row\n",
    "\n",
    "```sql\n",
    "UPDATE student SET age = 20 WHERE name = 'Bae';\n",
    "```\n",
    "\n",
    "Update multiple columns in a row\n",
    "```sql\n",
    "UPDATE student SET age = 20, name = 'John' WHERE name = 'Bae';\n",
    "```\n",
    "\n",
    "Update multiple rows\n",
    "```sql\n",
    "UPDATE student SET age = 20 WHERE age > 20;\n",
    "```\n",
    "\n",
    "Update based on existing values. Why this approach is bad?\n",
    "```sql\n",
    "UPDATE student SET age = age + 1 WHERE age > 10;\n",
    "```\n",
    "\n"
   ]
  },
  {
   "cell_type": "code",
   "execution_count": 80,
   "metadata": {},
   "outputs": [
    {
     "name": "stdout",
     "output_type": "stream",
     "text": [
      "This is a student Eddy. Age: 21\n",
      "This is a student Lily. Age: 22\n",
      "This is a student Jenny. Age: 19\n",
      "This is a student Lila super. Age: 25\n",
      "This is a student Eric. Age: 20\n",
      "This is a student Eric. Age: 23\n",
      "This is a student Benedict. Age: 19\n",
      "This is a student Joe. Age: 22\n",
      "This is a student Pablo. Age: 23\n",
      "This is a student Joe. Age: 23\n",
      "This is a student Winston. Age: 24\n",
      "This is a student Timothy. Age: 24\n",
      "This is a student Brian. Age: 20\n",
      "This is a student Fillipe. Age: 19\n",
      "This is a student Bae. Age: 20\n"
     ]
    }
   ],
   "source": [
    "#1 UPDATE student SET age = 20 WHERE name = 'Bae';\n",
    "session.query(Student).filter(Student.name=='Bae').\\\n",
    "    update({Student.age:20})\n",
    "\n",
    "res=session.query(s).all()\n",
    "print(*res, sep='\\n')"
   ]
  },
  {
   "cell_type": "code",
   "execution_count": 81,
   "metadata": {},
   "outputs": [],
   "source": [
    "session.rollback()"
   ]
  },
  {
   "cell_type": "code",
   "execution_count": 77,
   "metadata": {},
   "outputs": [
    {
     "data": {
      "text/plain": [
       "1"
      ]
     },
     "execution_count": 77,
     "metadata": {},
     "output_type": "execute_result"
    }
   ],
   "source": [
    "# UPDATE student SET age = 20, name = 'John' WHERE name = 'Bae';\n",
    "session.query(Student).filter(Student.name=='Bae').update({Student.name:'John', Student.age:20})"
   ]
  },
  {
   "cell_type": "code",
   "execution_count": 78,
   "metadata": {},
   "outputs": [
    {
     "name": "stdout",
     "output_type": "stream",
     "text": [
      "This is a student Eddy. Age: 21\n",
      "This is a student Lily. Age: 22\n",
      "This is a student Jenny. Age: 19\n",
      "This is a student Lila super. Age: 25\n",
      "This is a student Eric. Age: 20\n",
      "This is a student Eric. Age: 23\n",
      "This is a student Benedict. Age: 19\n",
      "This is a student Joe. Age: 22\n",
      "This is a student Pablo. Age: 23\n",
      "This is a student Joe. Age: 23\n",
      "This is a student Winston. Age: 24\n",
      "This is a student Timothy. Age: 24\n",
      "This is a student Brian. Age: 20\n",
      "This is a student Fillipe. Age: 19\n",
      "This is a student John. Age: 20\n"
     ]
    }
   ],
   "source": [
    "res=session.query(s).all()\n",
    "print(*res, sep='\\n')"
   ]
  },
  {
   "cell_type": "code",
   "execution_count": 79,
   "metadata": {},
   "outputs": [],
   "source": [
    "session.rollback()"
   ]
  },
  {
   "cell_type": "code",
   "execution_count": 82,
   "metadata": {},
   "outputs": [
    {
     "data": {
      "text/plain": [
       "10"
      ]
     },
     "execution_count": 82,
     "metadata": {},
     "output_type": "execute_result"
    }
   ],
   "source": [
    "# 3 UPDATE student SET age = 20 WHERE age > 20;\n",
    "session.query(Student).filter(Student.age>20).update({Student.age: 20})"
   ]
  },
  {
   "cell_type": "code",
   "execution_count": 83,
   "metadata": {},
   "outputs": [
    {
     "name": "stdout",
     "output_type": "stream",
     "text": [
      "This is a student Jenny. Age: 19\n",
      "This is a student Eric. Age: 20\n",
      "This is a student Benedict. Age: 19\n",
      "This is a student Brian. Age: 20\n",
      "This is a student Fillipe. Age: 19\n",
      "This is a student Eddy. Age: 20\n",
      "This is a student Lily. Age: 20\n",
      "This is a student Bae. Age: 20\n",
      "This is a student Lila super. Age: 20\n",
      "This is a student Eric. Age: 20\n",
      "This is a student Joe. Age: 20\n",
      "This is a student Pablo. Age: 20\n",
      "This is a student Joe. Age: 20\n",
      "This is a student Winston. Age: 20\n",
      "This is a student Timothy. Age: 20\n"
     ]
    }
   ],
   "source": [
    "res=session.query(s).all()\n",
    "print(*res, sep='\\n')"
   ]
  },
  {
   "cell_type": "code",
   "execution_count": 84,
   "metadata": {},
   "outputs": [],
   "source": [
    "session.rollback()"
   ]
  },
  {
   "cell_type": "code",
   "execution_count": 85,
   "metadata": {},
   "outputs": [
    {
     "data": {
      "text/plain": [
       "15"
      ]
     },
     "execution_count": 85,
     "metadata": {},
     "output_type": "execute_result"
    }
   ],
   "source": [
    "# 4 UPDATE student SET age = age + 1 WHERE age > 10;\n",
    "session.query(Student).filter(Student.age>10).update({Student.age: Student.age+1})"
   ]
  },
  {
   "cell_type": "code",
   "execution_count": 86,
   "metadata": {},
   "outputs": [
    {
     "name": "stdout",
     "output_type": "stream",
     "text": [
      "This is a student Eddy. Age: 22\n",
      "This is a student Lily. Age: 23\n",
      "This is a student Jenny. Age: 20\n",
      "This is a student Bae. Age: 24\n",
      "This is a student Lila super. Age: 26\n",
      "This is a student Eric. Age: 21\n",
      "This is a student Eric. Age: 24\n",
      "This is a student Benedict. Age: 20\n",
      "This is a student Joe. Age: 23\n",
      "This is a student Pablo. Age: 24\n",
      "This is a student Joe. Age: 24\n",
      "This is a student Winston. Age: 25\n",
      "This is a student Timothy. Age: 25\n",
      "This is a student Brian. Age: 21\n",
      "This is a student Fillipe. Age: 20\n"
     ]
    }
   ],
   "source": [
    "res=session.query(s).all()\n",
    "print(*res, sep='\\n')"
   ]
  },
  {
   "cell_type": "code",
   "execution_count": 87,
   "metadata": {},
   "outputs": [],
   "source": [
    "session.rollback()"
   ]
  },
  {
   "cell_type": "code",
   "execution_count": 93,
   "metadata": {},
   "outputs": [],
   "source": [
    "session.commit()"
   ]
  },
  {
   "cell_type": "code",
   "execution_count": 94,
   "metadata": {},
   "outputs": [],
   "source": [
    "session.close()"
   ]
  },
  {
   "cell_type": "code",
   "execution_count": null,
   "metadata": {},
   "outputs": [],
   "source": []
  },
  {
   "cell_type": "code",
   "execution_count": null,
   "metadata": {},
   "outputs": [],
   "source": []
  }
 ],
 "metadata": {
  "kernelspec": {
   "display_name": "Python 3",
   "language": "python",
   "name": "python3"
  },
  "language_info": {
   "codemirror_mode": {
    "name": "ipython",
    "version": 3
   },
   "file_extension": ".py",
   "mimetype": "text/x-python",
   "name": "python",
   "nbconvert_exporter": "python",
   "pygments_lexer": "ipython3",
   "version": "3.10.6"
  },
  "orig_nbformat": 4
 },
 "nbformat": 4,
 "nbformat_minor": 2
}
