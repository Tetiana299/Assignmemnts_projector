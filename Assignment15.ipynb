{
 "cells": [
  {
   "cell_type": "markdown",
   "id": "326e85cb",
   "metadata": {},
   "source": [
    "## Practice\n",
    "\n",
    "1. Create a class Product with properties name, price, and quantity. Create a child class Book that inherits from Product and adds a property author and a method called read.\n",
    "\n",
    "\n",
    "```\n"
   ]
  },
  {
   "cell_type": "code",
   "execution_count": 323,
   "id": "5d265a79",
   "metadata": {},
   "outputs": [],
   "source": [
    "class Product:\n",
    "    def __init__(self, name:str, price:float, quantity:int):\n",
    "        \n",
    "        self.name=name\n",
    "        self.price=price\n",
    "        self.quantity=quantity\n",
    "    def __str__(self):\n",
    "        return f'Product:{self.name}, price:{self.price} grn, quantity:{self.quantity}'"
   ]
  },
  {
   "cell_type": "code",
   "execution_count": 324,
   "id": "00b70b3e",
   "metadata": {},
   "outputs": [],
   "source": [
    "class Book(Product):\n",
    "    def __init__(self, name:str, author:str, price:float, quantity:int):\n",
    "        super().__init__(name, price, quantity)\n",
    "        self.author=author\n",
    "        \n",
    "    def read(self):\n",
    "        return self.author"
   ]
  },
  {
   "cell_type": "code",
   "execution_count": 325,
   "id": "f9515dc4",
   "metadata": {},
   "outputs": [
    {
     "name": "stdout",
     "output_type": "stream",
     "text": [
      "Product:hey, price:25.2 grn, quantity:6\n",
      "ya\n"
     ]
    }
   ],
   "source": [
    "book=Book('hey','ya', 25.2,6)\n",
    "print(book)\n",
    "print(book.read())"
   ]
  },
  {
   "cell_type": "markdown",
   "id": "469ec137",
   "metadata": {},
   "source": [
    "2. Create a class Restaurant with properties name, cuisine, and menu. The menu property should be a dictionary with keys being the dish name and values being the price. Create a child class FastFood that inherits from Restaurant and adds a property drive_thru (a boolean indicating whether the restaurant has a drive-thru or not) and a method called order which takes in the dish name and quantity and returns the total cost of the order. The method should also update the menu dictionary to subtract the ordered quantity from the available quantity. If the dish is not available or if the requested quantity is greater than the available quantity, the method should return a message indicating that the order cannot be fulfilled.\n",
    "\n",
    "Example of usage\n",
    "    \n",
    "```python\n",
    "class Restaurant:\n",
    "    # your code here\n",
    "    pass\n",
    "\n",
    "class FastFood(Restaurant):\n",
    "    # your code here\n",
    "    pass\n",
    "\n",
    "menu =  {\n",
    "    'burger': {'price': 5, 'quantity': 10},\n",
    "    'pizza': {'price': 10, 'quantity': 20},\n",
    "    'drink': {'price': 1, 'quantity': 15}\n",
    "}\n",
    "\n",
    "mc = FastFood('McDonalds', 'Fast Food', menu, True)\n",
    "\n",
    "print(mc.order('burger', 5)) # 25\n",
    "print(mc.order('burger', 15)) # Requested quantity not available\n",
    "print(mc.order('soup', 5)) # Dish not available"
   ]
  },
  {
   "cell_type": "code",
   "execution_count": 326,
   "id": "dfa769ef",
   "metadata": {},
   "outputs": [],
   "source": [
    "class Restaurant:\n",
    "    def __init__(self, name:str, cuisine: str, menu:dict):\n",
    "        self.name=name\n",
    "        self.cuisine=cuisine\n",
    "        self.menu=menu\n",
    "\n",
    "class FastFood(Restaurant):\n",
    "    def __init__(self, name:str, cuisine: str, menu:dict,  drive_thru: bool):\n",
    "        super().__init__( name, cuisine, menu)\n",
    "        self.drive_thru=drive_thru\n",
    "        \n",
    "    def order(self, dish_name:str, quantity:int):\n",
    "        if dish_name not in self.menu.keys():\n",
    "            return 'Dish not available'\n",
    "            \n",
    "        elif quantity>self.menu[dish_name]['quantity']:\n",
    "            return 'Requested quantity not available'\n",
    "        else:\n",
    "            cost=quantity*self.menu[dish_name]['price']\n",
    "            self.menu[dish_name]['quantity']-=quantity\n",
    "            \n",
    "            return cost\n",
    "            \n",
    "        \n",
    "        \n",
    "        \n"
   ]
  },
  {
   "cell_type": "code",
   "execution_count": 327,
   "id": "3dec33f4",
   "metadata": {},
   "outputs": [
    {
     "name": "stdout",
     "output_type": "stream",
     "text": [
      "25\n",
      "Requested quantity not available\n",
      "Dish not available\n"
     ]
    }
   ],
   "source": [
    "menu =  {\n",
    "    'burger': {'price': 5, 'quantity': 10},\n",
    "    'pizza': {'price': 10, 'quantity': 20},\n",
    "    'drink': {'price': 1, 'quantity': 15}\n",
    "}\n",
    "\n",
    "mc = FastFood('McDonalds', 'Fast Food', menu, True)\n",
    "\n",
    "print(mc.order('burger', 5)) # 25\n",
    "print(mc.order('burger', 15)) # Requested quantity not available\n",
    "print(mc.order('soup', 5)) # Dish not available"
   ]
  },
  {
   "cell_type": "markdown",
   "id": "c26ce4a7",
   "metadata": {},
   "source": [
    "3. (Optional) A Bank\n",
    "    1. Using the Account class as a base class, write two derived classes called SavingsAccount and CurrentAccount. A SavingsAccount object, in addition to the attributes of an Account object, should have an interest attribute and a method which adds interest to the account. A CurrentAccount object, in addition to the attributes of an Account object, should have an overdraft limit attribute.\n",
    "\n",
    "    2. Now create a Bank class, an object of which contains an array of Account objects. Accounts in the array could be instances of the Account class, the SavingsAccount class, or the CurrentAccount class. Create some test accounts (some of each type).\n",
    "\n",
    "    3. Write an update method in the Bank class. It iterates through each account, updating it in the following ways: Savings accounts get interest added (via the method you already wrote); CurrentAccounts get a letter sent if they are in overdraft. (use print to 'send' the letter).\n",
    "\n",
    "    4. The Bank class requires methods for opening and closing accounts, and for paying a dividend into each account."
   ]
  },
  {
   "cell_type": "code",
   "execution_count": 396,
   "id": "21c7cce8",
   "metadata": {},
   "outputs": [],
   "source": [
    "class Account:\n",
    "    def __init__(self, balance, account_number):\n",
    "        self._balance = balance\n",
    "        self._account_number = account_number\n",
    "    \n",
    "    @classmethod\n",
    "    def create_account(cls, account_number):\n",
    "        return cls(0.0, account_number)\n",
    "    \n",
    "    def deposit(self, amount):\n",
    "        if amount > 0:\n",
    "            self._balance += amount\n",
    "        else:\n",
    "            raise ValueError('Amount must be positive')\n",
    "\n",
    "    def withdraw(self, amount):\n",
    "        if amount > 0:\n",
    "            self._balance -= amount\n",
    "        else:\n",
    "            raise ValueError('Amount must be positive')\n",
    "\n",
    "    def get_balance(self):\n",
    "        return self._balance\n",
    "    \n",
    "       \n",
    "    def get_account_number(self):\n",
    "        return self._account_number\n",
    "    \n",
    "    def __str__(self):\n",
    "        return f'Account number: {self._account_number}, balance: {self._balance}'"
   ]
  },
  {
   "cell_type": "code",
   "execution_count": 421,
   "id": "13bacf52",
   "metadata": {},
   "outputs": [],
   "source": [
    "class SavingsAccount(Account):\n",
    "    def __init__(self, balance, account_number, interest=0):\n",
    "        super().__init__(balance, account_number)\n",
    "        self.interest=interest                   \n",
    "    \n",
    "    def add_interest(self):\n",
    "        self.deposit(self.get_balance()*self.interest*0.01)\n",
    "         \n",
    "\n",
    "    \n",
    "    \n",
    "class CurrentAccount(Account):\n",
    "    def __init__(self, balance, account_number, limit=0):\n",
    "        super().__init__(balance, account_number)\n",
    "        self.limit=limit\n"
   ]
  },
  {
   "cell_type": "code",
   "execution_count": 422,
   "id": "3eed6444",
   "metadata": {},
   "outputs": [
    {
     "name": "stdout",
     "output_type": "stream",
     "text": [
      "Account number: 125, balance: 64\n",
      "Account number: 125, balance: 65.92\n"
     ]
    }
   ],
   "source": [
    "acc2=SavingsAccount(64, 125, 3)\n",
    "print(acc2)\n",
    "acc2.add_interest()\n",
    "print(acc2)"
   ]
  },
  {
   "cell_type": "code",
   "execution_count": 437,
   "id": "66d41e31",
   "metadata": {},
   "outputs": [],
   "source": [
    "class Bank:\n",
    "    def __init__(self, accounts: list[Account]):\n",
    "        self.accounts=accounts\n",
    "        for acc in self.accounts:\n",
    "            if isinstance(acc, Account)==False:\n",
    "                raise TypeError('Incorrect data!')\n",
    "    \n",
    "    def __str__(self):\n",
    "        list_accs=''\n",
    "        for i in range(len(self.accounts)):\n",
    "            list_accs+=f'{self.accounts[i]}\\n'\n",
    "        return list_accs\n",
    "        \n",
    "    \n",
    "    def update_bank(self):\n",
    "        for i in range(len(self.accounts)):\n",
    "            if isinstance(self.accounts[i], SavingsAccount):\n",
    "                self.accounts[i].add_interest()\n",
    "                \n",
    "            if isinstance(self.accounts[i], CurrentAccount) and self.accounts[i].get_balance()<=self.accounts[i].limit:\n",
    "                print(f'Account {self.accounts[i].get_account_number()}: send') \n",
    "                \n",
    "        \n",
    "    def close_acc(self, acc_number):\n",
    "        for i in range(len(self.accounts)):\n",
    "            if self.accounts[i].get_account_number()==acc_number:\n",
    "                self.accounts.pop(i)\n",
    "                break\n",
    "    \n",
    "    def open_acc(self, acc_number, cls=Account):\n",
    "        for i in range(len(self.accounts)):\n",
    "            if self.accounts[i].get_account_number()==acc_number:\n",
    "                return f'account_number {self.accounts[i].get_account_number()} already exists!'\n",
    "        self.accounts.append(cls.create_account(acc_number))\n"
   ]
  },
  {
   "cell_type": "code",
   "execution_count": 438,
   "id": "ca7aa52d",
   "metadata": {},
   "outputs": [],
   "source": [
    "acc1=Account(56, 1234)\n",
    "acc2=SavingsAccount(64, 125, 3)\n",
    "acc3=CurrentAccount(-25, 1235, 1000)\n",
    "\n",
    "bank=Bank([acc1, acc2, acc3])\n"
   ]
  },
  {
   "cell_type": "code",
   "execution_count": 439,
   "id": "ed83cd1e",
   "metadata": {},
   "outputs": [],
   "source": [
    "bank.close_acc(1234)\n",
    "bank.open_acc(12344558)\n"
   ]
  },
  {
   "cell_type": "raw",
   "id": "3edda3de",
   "metadata": {},
   "source": [
    "print(acc2)"
   ]
  },
  {
   "cell_type": "code",
   "execution_count": 440,
   "id": "1f3196cd",
   "metadata": {},
   "outputs": [
    {
     "name": "stdout",
     "output_type": "stream",
     "text": [
      "Account 1235: send\n"
     ]
    }
   ],
   "source": [
    "bank.update_bank()"
   ]
  },
  {
   "cell_type": "code",
   "execution_count": 442,
   "id": "c225a78e",
   "metadata": {},
   "outputs": [
    {
     "name": "stdout",
     "output_type": "stream",
     "text": [
      "Account number: 125, balance: 65.92\n",
      "Account number: 1235, balance: -25\n",
      "Account number: 12344558, balance: 0.0\n",
      "\n"
     ]
    }
   ],
   "source": [
    "print(bank)"
   ]
  },
  {
   "cell_type": "code",
   "execution_count": null,
   "id": "688aee4b",
   "metadata": {},
   "outputs": [],
   "source": []
  }
 ],
 "metadata": {
  "kernelspec": {
   "display_name": "Python 3 (ipykernel)",
   "language": "python",
   "name": "python3"
  },
  "language_info": {
   "codemirror_mode": {
    "name": "ipython",
    "version": 3
   },
   "file_extension": ".py",
   "mimetype": "text/x-python",
   "name": "python",
   "nbconvert_exporter": "python",
   "pygments_lexer": "ipython3",
   "version": "3.9.13"
  }
 },
 "nbformat": 4,
 "nbformat_minor": 5
}
