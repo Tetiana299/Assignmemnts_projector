{
 "cells": [
  {
   "attachments": {},
   "cell_type": "markdown",
   "id": "d370f434",
   "metadata": {},
   "source": [
    "1. Write a program that generate 26 text files named A.txt, B.txt, and so on up to Z.txt.\n",
    "    2. To each file append a random number between 1 and 100.\n",
    "    3. Create a summary file (summary.txt) that contains name of the file and number in that file:\n",
    "\n",
    "        A.txt: 67\n",
    "\n",
    "        B.txt: 12\n",
    "\n",
    "        ...\n",
    "        \n",
    "        Z.txt: 98"
   ]
  },
  {
   "cell_type": "code",
   "execution_count": 1,
   "id": "8c2110e5",
   "metadata": {},
   "outputs": [],
   "source": [
    "from random import randint"
   ]
  },
  {
   "cell_type": "code",
   "execution_count": 2,
   "id": "8a90c9ff",
   "metadata": {},
   "outputs": [],
   "source": [
    "path='test_files/' # dir for created files\n",
    "txt='.txt'"
   ]
  },
  {
   "cell_type": "code",
   "execution_count": 3,
   "id": "c97961ad",
   "metadata": {},
   "outputs": [],
   "source": [
    "for i in range(ord('A'), ord('Z')+1):\n",
    "    with open(path+chr(i)+txt, 'w', encoding='utf-8') as file:\n",
    "        file.write(str(randint(1,100)))"
   ]
  },
  {
   "cell_type": "code",
   "execution_count": 4,
   "id": "1ff1e0e3",
   "metadata": {},
   "outputs": [],
   "source": [
    "for i in range(ord('A'), ord('Z')+1):\n",
    "    name=chr(i)+txt\n",
    "    with open(path+name, 'r', encoding='utf8') as rfile,\\\n",
    "        open(path+'summary'+txt, 'a', encoding='utf8') as output:\n",
    "        output.write(name+':'+rfile.read()+'\\n')"
   ]
  },
  {
   "attachments": {},
   "cell_type": "markdown",
   "id": "19bc2521",
   "metadata": {},
   "source": [
    "2. \n",
    "    1. Create file with some content. As example you can take this one\n",
    "    ```\n",
    "        Lorem ipsum dolor sit amet, consectetur adipiscing elit, sed do eiusmod tempor incididunt ut labore et dolore magna aliqua. Ut enim ad minim veniam, quis nostrud exercitation ullamco laboris nisi ut aliquip ex ea commodo consequat. Duis aute irure dolor in reprehenderit in voluptate velit esse cillum dolore eu fugiat nulla pariatur. Excepteur sint occaecat cupidatat non proident, sunt in culpa qui officia deserunt mollit anim id est laborum.\n",
    "    ```\n",
    "    2. Create second file and copy content of the first file to the second file in upper case.\n"
   ]
  },
  {
   "cell_type": "code",
   "execution_count": 5,
   "id": "18de0a7f",
   "metadata": {},
   "outputs": [],
   "source": [
    "text='Lorem ipsum dolor sit amet, consectetur adipiscing elit, sed do eiusmod tempor incididunt ut labore et dolore magna aliqua. Ut enim ad minim veniam, quis nostrud exercitation ullamco laboris nisi ut aliquip ex ea commodo consequat. Duis aute irure dolor in reprehenderit in voluptate velit esse cillum dolore eu fugiat nulla pariatur. Excepteur sint occaecat cupidatat non proident, sunt in culpa qui officia deserunt mollit anim id est laborum.'\n",
    "with open(path+'inputfile'+txt, 'w', encoding='utf8') as file:\n",
    "    file.write(text)\n"
   ]
  },
  {
   "cell_type": "code",
   "execution_count": 6,
   "id": "3b58312e",
   "metadata": {},
   "outputs": [],
   "source": [
    "with open(path+'inputfile'+txt, 'r', encoding='utf8') as inpfile, open(path+'file_up'+txt, 'w', encoding='utf8') as outputfile:\n",
    "    outputfile.write(inpfile.read().upper())\n",
    "    "
   ]
  },
  {
   "attachments": {},
   "cell_type": "markdown",
   "id": "5409e801",
   "metadata": {},
   "source": [
    "\n",
    "3. Write a program that will simulate user score in a game. Create a list with 5 player's names. After that simulate 100 games for each player. As a result of the game create a list with player's name and his score (0-1000 range). And save it to a CSV file. File should looks like this:\n",
    "    ```\n",
    "    Player name, Score\n",
    "    Josh, 56\n",
    "    Luke, 784\n",
    "    Kate, 90\n",
    "    Mark, 125\n",
    "    Mary, 877\n",
    "    Josh, 345\n",
    "    ...\n",
    "    ```\n",
    "\n",
    "4. Write a script that reads the data from previous CSV file and creates a new file called high_scores.csv where each row contains the player name and their highest score. Final score should sorted by descending of highest score\n",
    "\n",
    "The output CSV file should look like this:\n",
    "\n",
    "    \n",
    "    Player name, Highest score\n",
    "    Kate, 907\n",
    "    Mary, 897\n",
    "    Luke, 784\n",
    "    Mark, 725\n",
    "    Josh, 345\n",
    "    "
   ]
  },
  {
   "cell_type": "code",
   "execution_count": 7,
   "id": "e7f315d5",
   "metadata": {},
   "outputs": [],
   "source": [
    "import csv"
   ]
  },
  {
   "cell_type": "code",
   "execution_count": 13,
   "id": "7cdc3dcd",
   "metadata": {},
   "outputs": [],
   "source": [
    "players=['Josh', 'Luke', 'Kate', 'Mark', 'Mary']"
   ]
  },
  {
   "attachments": {},
   "cell_type": "markdown",
   "id": "2d31c853",
   "metadata": {},
   "source": [
    "#### use csv lib"
   ]
  },
  {
   "cell_type": "code",
   "execution_count": 35,
   "id": "59df848c",
   "metadata": {},
   "outputs": [],
   "source": [
    "# push to file name and score of players simulate 100 games for each player\n",
    "with open(path+'players.csv', mode='w', encoding='utf8') as file:\n",
    "    wr=csv.writer(file)\n",
    "    wr.writerow(['Player name', 'Score'])\n",
    "    wr.writerows([[player, randint(0,1000)] for _ in range(100) for player in players])"
   ]
  },
  {
   "cell_type": "code",
   "execution_count": 36,
   "id": "00afb6d2",
   "metadata": {},
   "outputs": [
    {
     "name": "stdout",
     "output_type": "stream",
     "text": [
      "[('Josh', 1000), ('Mark', 1000), ('Mary', 996), ('Kate', 993), ('Luke', 982)]\n"
     ]
    }
   ],
   "source": [
    "high_score_={}\n",
    "with open(path+'players.csv', mode='r', encoding='utf8') as file:\n",
    "    reader = csv.DictReader(file)\n",
    "    for row in reader:\n",
    "        name=row[reader.fieldnames[0]]\n",
    "        score=int(row[reader.fieldnames[1]])\n",
    "        # create dictionary, where keys are names of players, values are high their score \n",
    "        high_score_[name]=score if name not in high_score_.keys()\\\n",
    "                            else max(high_score_[name], score)\n",
    "# create sorted list of high score of players\n",
    "high_score_sort=[(name, score) for name, score in high_score_.items()]\n",
    "high_score_sort.sort(key=lambda x:x[1],reverse=True) \n",
    "print(high_score_sort)       "
   ]
  },
  {
   "cell_type": "code",
   "execution_count": 37,
   "id": "8f265f3d",
   "metadata": {},
   "outputs": [],
   "source": [
    "with open(path+'high_scores.csv', 'w', encoding='utf8') as file_res:\n",
    "    wr=csv.writer(file_res)\n",
    "    wr.writerow(['Player name', 'Highest score'])\n",
    "    wr.writerows((name, score) for name, score in high_score_sort)\n",
    "    "
   ]
  },
  {
   "cell_type": "code",
   "execution_count": null,
   "id": "f30d7ce1",
   "metadata": {},
   "outputs": [],
   "source": []
  }
 ],
 "metadata": {
  "kernelspec": {
   "display_name": "Python 3 (ipykernel)",
   "language": "python",
   "name": "python3"
  },
  "language_info": {
   "codemirror_mode": {
    "name": "ipython",
    "version": 3
   },
   "file_extension": ".py",
   "mimetype": "text/x-python",
   "name": "python",
   "nbconvert_exporter": "python",
   "pygments_lexer": "ipython3",
   "version": "3.10.6"
  }
 },
 "nbformat": 4,
 "nbformat_minor": 5
}
