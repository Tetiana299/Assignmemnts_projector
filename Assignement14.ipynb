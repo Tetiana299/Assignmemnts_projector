{
 "cells": [
  {
   "cell_type": "markdown",
   "id": "b4697d77",
   "metadata": {},
   "source": [
    "#### Homework Practice\n",
    "##### 1. Modify the Country class to include a third instance attribute called capital as a string. Store your new class in a script and test it out by adding the following code at the bottom of the script:\n",
    "japan = Country('Japan', 140_000_000, 'Tokyo')\n",
    "\n",
    "print(f\"{japan.name} population is {japan.population} and capital is {japan.capital}.\") \n",
    "\n",
    "The output of your script should be:\n",
    "\n",
    "Japan population is 140000000 and capital is Tokyo.\n",
    "\n",
    "##### 2. Add increase_population method to country class. This method should take an argument and increase population of the country on this number.\n",
    "##### 3. Create add method to add two countries together. This method should create another country object with the name of the two countries combined and population of the two countries added together.\n",
    "\n",
    "bosnia = Country('Bosnia', 10_000_000)\n",
    "\n",
    "herzegovina = Country('Herzegovina', 5_000_000)\n",
    "\n",
    "bosnia_herzegovina = bosnia.add(herzegovina)\n",
    "\n",
    "bosnia_herzegovina.population -> 15_000_000\n",
    "\n",
    "bosnia_herzegovina.name -> 'Bosnia Herzegovina'\n",
    "##### 4. (Optional) Implement previous method with magic method\n",
    "\n",
    "bosnia = Country('Bosnia', 10_000_000)\n",
    "\n",
    "herzegovina = Country('Herzegovina', 5_000_000)\n",
    "\n",
    "bosnia_herzegovina = bosnia + herzegovina\n",
    "\n",
    "bosnia_herzegovina.population -> 15_000_000\n",
    "\n",
    "bosnia_herzegovina.name -> 'Bosnia Herzegovina'\n"
   ]
  },
  {
   "cell_type": "code",
   "execution_count": 48,
   "id": "17fb0c21",
   "metadata": {},
   "outputs": [],
   "source": [
    "class Country:\n",
    "    def __init__(self, name:str, population: int, capital: str) -> None:\n",
    "        self.name = name \n",
    "        self.population = population\n",
    "        self.capital = capital      #1 \n",
    "        \n",
    "    def __str__(self): #1\n",
    "        return f\"{self.name} population is {self.population} and capital is {self.capital}.\" \n",
    "    \n",
    "    def __add__(self, other): #4 magic method\n",
    "        return Country(self.name+' '+other.name, self.population+other.population, self.capital )\n",
    "    \n",
    "    def increase_population(self, increase_value: int): #2\n",
    "        self.population += increase_value\n",
    "        return  self.population \n",
    "    def add(self, other): #3\n",
    "        return Country(self.name+' '+other.name, self.population+other.population, self.capital )\n",
    "        \n"
   ]
  },
  {
   "cell_type": "code",
   "execution_count": 49,
   "id": "c5d6777e",
   "metadata": {
    "scrolled": true
   },
   "outputs": [
    {
     "name": "stdout",
     "output_type": "stream",
     "text": [
      "Japan population is 14000000 and capital is Tokyo.\n",
      "14100000\n",
      "Japan population is 14100000 and capital is Tokyo.\n"
     ]
    }
   ],
   "source": [
    "japan = Country('Japan', 140_000_00, 'Tokyo')\n",
    "print(japan)\n",
    "print(japan.increase_population(100000))\n",
    "print(japan)"
   ]
  },
  {
   "cell_type": "code",
   "execution_count": 54,
   "id": "7de903f0",
   "metadata": {},
   "outputs": [
    {
     "name": "stdout",
     "output_type": "stream",
     "text": [
      "Bosnia Herzegovina population is 15000000 and capital is HH.\n",
      "Bosnia population is 10000000 and capital is HH.\n",
      "Herzegovina population is 5000000 and capital is HH.\n"
     ]
    }
   ],
   "source": [
    "bosnia = Country('Bosnia', 10_000_000, 'HH')\n",
    "herzegovina = Country('Herzegovina', 5_000_000, 'HH')\n",
    "\n",
    "bosnia_herzegovina = bosnia.add(herzegovina)\n",
    "print(bosnia_herzegovina, bosnia, herzegovina, sep='\\n')"
   ]
  },
  {
   "cell_type": "code",
   "execution_count": 55,
   "id": "c1e204d2",
   "metadata": {},
   "outputs": [
    {
     "name": "stdout",
     "output_type": "stream",
     "text": [
      "Bosnia Herzegovina population is 15000000 and capital is HH.\n"
     ]
    }
   ],
   "source": [
    "bosnia_herzegovina = bosnia + herzegovina\n",
    "print(bosnia_herzegovina)"
   ]
  },
  {
   "cell_type": "markdown",
   "id": "2ee73847",
   "metadata": {},
   "source": [
    "\n",
    "##### 5. Create a Car class with the following attributes: brand, model, year, and speed.\n",
    "\n",
    "The Car class should have the following methods: accelerate and brake.\n",
    "\n",
    "The accelerate method should increase the speed by 5, and the brake method should decrease the speed by 5. \n"
   ]
  },
  {
   "cell_type": "code",
   "execution_count": 59,
   "id": "2ed391e3",
   "metadata": {},
   "outputs": [],
   "source": [
    "class Car:\n",
    "    def __init__(self, brand:str, model:str, year:int, speed:int):\n",
    "        self.brand=brand\n",
    "        self.model=model\n",
    "        self.year=year\n",
    "        self.speed=speed\n",
    "    \n",
    "    def __str__(self):\n",
    "        return f'{brand} {model} year {year} with speed {speed}'\n",
    "        \n",
    "        \n",
    "    def accelerate(self, speed_up:int=5):\n",
    "        return self.speed+speed_up\n",
    "    \n",
    "    def brake(self, speed_down:int=5):\n",
    "        speed_=self.speed-speed_down\n",
    "        return  speed_ if speed_>0 else 0"
   ]
  },
  {
   "cell_type": "markdown",
   "id": "073ae704",
   "metadata": {},
   "source": [
    "##### 6. Create a Robot class with the following attributes: orientation, position_x, position_y. \n",
    "\n",
    "The Robot class should have the following methods: move, turn, and display_position. \n",
    "\n",
    "The move method should take a number of steps and move the robot in the direction it is currently facing. \n",
    "\n",
    "The turn method should take a direction (left or right) and turn the robot in that direction. \n",
    "\n",
    "The display_position method should print the current position of the robot."
   ]
  },
  {
   "cell_type": "code",
   "execution_count": 42,
   "id": "cdf88ead",
   "metadata": {},
   "outputs": [],
   "source": [
    "#system of coordinat rises horizontal: from left to right and vertical: from top to down\n",
    "#start default position of Robot - in the center (0,0) of field, it is ready to move on the east .->\n",
    "class Robot:\n",
    "    \n",
    "    def __init__(self, orientation:str='east', position_x:int=0, position_y:int=0):\n",
    "        try:\n",
    "            self.__direct=[(1,0),(0,-1),(-1,0), (0,1)]\n",
    "            self.__ENWS=['east', 'north', 'west', 'south']\n",
    "            self.orientation=self.__ENWS.index(orientation.lower())\n",
    "\n",
    "            self.x=position_x\n",
    "            self.y=position_y\n",
    "        except Exception as e:\n",
    "            print('Error:',type(e).__name__, e)\n",
    "               \n",
    "    \n",
    "    def move(self, step:int=1):\n",
    "        self.x+=step*self.__direct[self.orientation][0]\n",
    "        self.y+=step*self.__direct[self.orientation][1]\n",
    "        return self.x, self.y\n",
    "    \n",
    "    def turn_left(self):\n",
    "        self.orientation=(self.orientation+1)%4\n",
    "        return self.__ENWS[self.orientation]\n",
    "    \n",
    "    def display_position(self):\n",
    "        return f'Current position: ({self.x}, {self.y}). Ready to move on the {self.__ENWS[self.orientation].capitalize()}'"
   ]
  },
  {
   "cell_type": "code",
   "execution_count": 43,
   "id": "b22a8bbd",
   "metadata": {},
   "outputs": [
    {
     "name": "stdout",
     "output_type": "stream",
     "text": [
      "Error: ValueError 'westf' is not in list\n"
     ]
    }
   ],
   "source": [
    "ro=Robot('westf', 5, 6)"
   ]
  },
  {
   "cell_type": "code",
   "execution_count": 35,
   "id": "5fe28023",
   "metadata": {},
   "outputs": [
    {
     "data": {
      "text/plain": [
       "'Current position: (5, 8). Ready to move on the North'"
      ]
     },
     "execution_count": 35,
     "metadata": {},
     "output_type": "execute_result"
    }
   ],
   "source": [
    "for _ in range(3):\n",
    "    ro.move(2)\n",
    "    ro.turn_left()\n",
    "ro.display_position()"
   ]
  },
  {
   "cell_type": "code",
   "execution_count": 36,
   "id": "41b9ebfc",
   "metadata": {},
   "outputs": [
    {
     "data": {
      "text/plain": [
       "(5, 6)"
      ]
     },
     "execution_count": 36,
     "metadata": {},
     "output_type": "execute_result"
    }
   ],
   "source": [
    "ro.move(2)"
   ]
  }
 ],
 "metadata": {
  "kernelspec": {
   "display_name": "Python 3 (ipykernel)",
   "language": "python",
   "name": "python3"
  },
  "language_info": {
   "codemirror_mode": {
    "name": "ipython",
    "version": 3
   },
   "file_extension": ".py",
   "mimetype": "text/x-python",
   "name": "python",
   "nbconvert_exporter": "python",
   "pygments_lexer": "ipython3",
   "version": "3.9.13"
  }
 },
 "nbformat": 4,
 "nbformat_minor": 5
}
