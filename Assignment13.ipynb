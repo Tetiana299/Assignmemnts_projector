{
 "cells": [
  {
   "cell_type": "markdown",
   "id": "b3ad116e",
   "metadata": {},
   "source": [
    "#### Practice\n",
    "#####  1. Write a decorator that ensures a function is only called by users with a specific role. Each function should have an user_type with a string type in kwargs\n",
    "\n",
    "Example\n",
    "\n",
    "@is_admin\n",
    "\n",
    "def show_customer_receipt(user_type: str):\n",
    "    # some very dangerous operation\n",
    "\n",
    "\n",
    "show_customer_receipt(user_type='user')\n",
    "> ValueError: Permission denied\n",
    "\n",
    "\n",
    "show_customer_receipt(user_type='admin')\n",
    "> function pass as it should be\n"
   ]
  },
  {
   "cell_type": "code",
   "execution_count": 29,
   "id": "31e1406d",
   "metadata": {},
   "outputs": [],
   "source": [
    "def is_admin(func):       \n",
    "    def wrapper(**kwargs):\n",
    "        if kwargs['user_type']=='admin':\n",
    "            return func(**kwargs)\n",
    "        else:\n",
    "            return 'ValueError: Permission denied'       \n",
    "    return wrapper"
   ]
  },
  {
   "cell_type": "code",
   "execution_count": 30,
   "id": "3d0dda2c",
   "metadata": {},
   "outputs": [],
   "source": [
    "@is_admin\n",
    "def show_customer_receipt(user_type: str):\n",
    "    return 'Yes'"
   ]
  },
  {
   "cell_type": "code",
   "execution_count": 31,
   "id": "218e3642",
   "metadata": {},
   "outputs": [
    {
     "data": {
      "text/plain": [
       "'ValueError: Permission denied'"
      ]
     },
     "execution_count": 31,
     "metadata": {},
     "output_type": "execute_result"
    }
   ],
   "source": [
    "show_customer_receipt(user_type='user')"
   ]
  },
  {
   "cell_type": "markdown",
   "id": "68c83499",
   "metadata": {},
   "source": [
    "#####  2. Write a decorator that wraps a function in a try-except block and print an error if error has happened\n",
    "\n",
    "Example\n",
    "\n",
    "@catch_errors\n",
    "\n",
    "def some_function_with_risky_operation(data):\n",
    "    print(data['key'])\n",
    "\n",
    "\n",
    "some_function_with_risky_operation({'foo': 'bar'})\n",
    "\n",
    "> Found 1 error during execution of your function: KeyError no such key as foo\n",
    "\n",
    "some_function_with_risky_operation({'key': 'bar'})\n",
    "\n",
    "> bar\n"
   ]
  },
  {
   "cell_type": "code",
   "execution_count": 408,
   "id": "66c26cdd",
   "metadata": {},
   "outputs": [],
   "source": [
    "\n",
    "def catch_errors(func):\n",
    "    message='Found 1 error during execution of your function: {0} -> {1}'\n",
    "    def wrapper(*args, **kwargs):\n",
    "        try:\n",
    "            return func(*args, **kwargs)\n",
    "        except KeyError as k:\n",
    "            print(message.format(type(k).__name__, 'No such key!'))\n",
    "        except Exception as e:\n",
    "            print(message.format(type(e).__name__, e))\n",
    "                   \n",
    "    return wrapper"
   ]
  },
  {
   "cell_type": "code",
   "execution_count": 409,
   "id": "6729bbc1",
   "metadata": {},
   "outputs": [],
   "source": [
    "@catch_errors\n",
    "def some_function_with_risky_operation(data):\n",
    "    return data['key']"
   ]
  },
  {
   "cell_type": "code",
   "execution_count": 411,
   "id": "f1a25ef7",
   "metadata": {
    "scrolled": true
   },
   "outputs": [
    {
     "data": {
      "text/plain": [
       "'bar'"
      ]
     },
     "execution_count": 411,
     "metadata": {},
     "output_type": "execute_result"
    }
   ],
   "source": [
    "some_function_with_risky_operation({'key':'bar'})"
   ]
  },
  {
   "cell_type": "markdown",
   "id": "d5bc9080",
   "metadata": {},
   "source": [
    "#####  3. Optional: Create a decorator that will check types. It should take a function with arguments and validate inputs with annotations.\n",
    "\n",
    "Example:\n",
    "\n",
    "@check_types\n",
    "\n",
    "def add(a: int, b: int) -> int:\n",
    "    return a + b\n",
    "\n",
    "add(1, 2)\n",
    "> 3\n",
    "\n",
    "add(\"1\", \"2\")\n",
    "> TypeError: Argument a must be int, not str"
   ]
  },
  {
   "cell_type": "code",
   "execution_count": 35,
   "id": "4aa8c073",
   "metadata": {},
   "outputs": [],
   "source": [
    "import inspect"
   ]
  },
  {
   "cell_type": "code",
   "execution_count": 378,
   "id": "4f72c67a",
   "metadata": {},
   "outputs": [],
   "source": [
    "def check_types(func):\n",
    "    dict_annot = func. __annotations__\n",
    "    \n",
    "    def wrapper(*args, **kwargs): \n",
    "        # create dictionary of types of inputed variables and their names \n",
    "        values=inspect.signature(func).bind(*args, **kwargs)\n",
    "        err_message='{0} must be {1}, not {2}'\n",
    "        \n",
    "        for name, value in values.arguments.items():\n",
    "            if name in dict_annot.keys():\n",
    "                if isinstance(value, dict_annot[name])==False:\n",
    "                    raise TypeError(err_message.format(name, dict_annot[name].__name__, type(value).__name__))\n",
    "                    \n",
    "        if isinstance(func(*args, **kwargs), dict_annot['return'])==False:\n",
    "            raise TypeError(err_message.format( func.__name__, dict_annot['return'].__name__ ,\\\n",
    "                                               type(func(*args, **kwargs)).__name__))\n",
    "            \n",
    "        return func(*args, **kwargs)\n",
    "    return wrapper"
   ]
  },
  {
   "cell_type": "code",
   "execution_count": 379,
   "id": "e677bd24",
   "metadata": {},
   "outputs": [],
   "source": [
    "@check_types\n",
    "def func(num:int, txt:str='txt')->int:\n",
    "    return num"
   ]
  },
  {
   "cell_type": "code",
   "execution_count": 380,
   "id": "1282cc63",
   "metadata": {},
   "outputs": [
    {
     "data": {
      "text/plain": [
       "1"
      ]
     },
     "execution_count": 380,
     "metadata": {},
     "output_type": "execute_result"
    }
   ],
   "source": [
    "func(1, 'ppp')"
   ]
  },
  {
   "cell_type": "markdown",
   "id": "bedbfaf9",
   "metadata": {},
   "source": [
    "#####  4. Optional: Create a function that caches the result of a function, so that if it is called with same same argument multiple times, it returns the cached result first instead of re-executing the function. It`s one of the real task on the project"
   ]
  },
  {
   "cell_type": "code",
   "execution_count": 45,
   "id": "53b57709",
   "metadata": {},
   "outputs": [],
   "source": [
    "import os.path #module to check is file or not\n",
    "\n",
    "def cache_result(func):\n",
    "    file_cache='cache_func.csv' # file name to cache result of functions\n",
    "    \n",
    "    if os.path.exists(file_cache)==False: #if file not exist, create file with header\n",
    "        with open(file_cache, mode='w', encoding='utf8') as file:\n",
    "            file.write('Function_*args**kwargs;Return\\n')\n",
    "            \n",
    "    def wrapper(*args, **kwargs):\n",
    "        key =func.__name__ + str(args) + str(kwargs) #create key as name of function + its arguments\n",
    "        cache={}\n",
    "        with open(file_cache, mode='r', encoding='utf8') as file:\n",
    "            # dictionary of cache\n",
    "            header=file.readline()\n",
    "            for row in file.readlines():\n",
    "                name,value=row.strip().split(';')\n",
    "                cache[name]=value\n",
    "        if key not in cache:\n",
    "            cache[key] = func(*args, **kwargs)\n",
    "            with open(file_cache, mode='a', encoding='utf8') as file:\n",
    "                file.write(f\"{key};{cache[key]}\\n\")\n",
    "        return cache[key]\n",
    "    \n",
    "    return wrapper\n",
    "\n",
    "\n",
    "@cache_result\n",
    "def hii(*args):\n",
    "    return 'hello'\n",
    "    \n",
    "@cache_result\n",
    "def create_list():\n",
    "    _list = []\n",
    "    for i in range(0, 20):\n",
    "        _list.append(i)\n",
    "    return _list"
   ]
  },
  {
   "cell_type": "code",
   "execution_count": 46,
   "id": "4f69d292",
   "metadata": {},
   "outputs": [
    {
     "data": {
      "text/plain": [
       "'hello'"
      ]
     },
     "execution_count": 46,
     "metadata": {},
     "output_type": "execute_result"
    }
   ],
   "source": [
    "create_list()\n",
    "create_list()\n",
    "hii('hhh')\n",
    "hii('hhhg')"
   ]
  },
  {
   "cell_type": "markdown",
   "id": "0f654ce5",
   "metadata": {},
   "source": [
    "##### 5. Optional: Write a decorator that adds a rate-limiter to a function, so that it can only be called a certain amount of times per minute."
   ]
  },
  {
   "cell_type": "code",
   "execution_count": 326,
   "id": "cd1edeb8",
   "metadata": {},
   "outputs": [],
   "source": [
    "import time\n",
    "def rate_limiter(max_call:int=3, limit_sec:int=60):\n",
    "    times_call=[]\n",
    "    def decor(func):\n",
    "        def wrapper(*args, **kwargs):\n",
    "            times_call.append(time.time())\n",
    "            # difference between first  and last attempts\n",
    "            diff_sec=times_call[-1]-times_call[0] \n",
    "            # if diff more than limit, start again\n",
    "            if diff_sec>limit_sec:\n",
    "                del times_call[-2::-1]\n",
    "                diff_sec=0\n",
    "            # check amount of attempts in limit period\n",
    "            if len(times_call)>max_call and diff_sec<=limit_sec:                \n",
    "                return f'Time is not over. Try again later'            \n",
    "            return func(*args, **kwargs) \n",
    "        return wrapper\n",
    "    return decor"
   ]
  },
  {
   "cell_type": "code",
   "execution_count": 327,
   "id": "332baa09",
   "metadata": {},
   "outputs": [],
   "source": [
    "@rate_limiter(max_call=3, limit_sec=60)\n",
    "def func(num:int, txt:str='txt')->int:\n",
    "    return num"
   ]
  },
  {
   "cell_type": "code",
   "execution_count": 328,
   "id": "73df0a0d",
   "metadata": {},
   "outputs": [
    {
     "name": "stdout",
     "output_type": "stream",
     "text": [
      "1\n"
     ]
    }
   ],
   "source": [
    "print(func(1,txt='fghhff')) "
   ]
  },
  {
   "cell_type": "code",
   "execution_count": null,
   "id": "54a31018",
   "metadata": {},
   "outputs": [],
   "source": []
  }
 ],
 "metadata": {
  "kernelspec": {
   "display_name": "Python 3 (ipykernel)",
   "language": "python",
   "name": "python3"
  },
  "language_info": {
   "codemirror_mode": {
    "name": "ipython",
    "version": 3
   },
   "file_extension": ".py",
   "mimetype": "text/x-python",
   "name": "python",
   "nbconvert_exporter": "python",
   "pygments_lexer": "ipython3",
   "version": "3.9.13"
  }
 },
 "nbformat": 4,
 "nbformat_minor": 5
}
